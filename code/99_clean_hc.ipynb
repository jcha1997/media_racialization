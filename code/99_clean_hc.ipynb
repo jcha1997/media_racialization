{
 "cells": [
  {
   "cell_type": "code",
   "execution_count": 1,
   "id": "247d8dc8",
   "metadata": {},
   "outputs": [
    {
     "name": "stderr",
     "output_type": "stream",
     "text": [
      "── \u001b[1mAttaching core tidyverse packages\u001b[22m ──────────────────────── tidyverse 2.0.0 ──\n",
      "\u001b[32m✔\u001b[39m \u001b[34mdplyr    \u001b[39m 1.1.4     \u001b[32m✔\u001b[39m \u001b[34mreadr    \u001b[39m 2.1.5\n",
      "\u001b[32m✔\u001b[39m \u001b[34mforcats  \u001b[39m 1.0.0     \u001b[32m✔\u001b[39m \u001b[34mstringr  \u001b[39m 1.5.1\n",
      "\u001b[32m✔\u001b[39m \u001b[34mggplot2  \u001b[39m 3.5.0     \u001b[32m✔\u001b[39m \u001b[34mtibble   \u001b[39m 3.2.1\n",
      "\u001b[32m✔\u001b[39m \u001b[34mlubridate\u001b[39m 1.9.3     \u001b[32m✔\u001b[39m \u001b[34mtidyr    \u001b[39m 1.3.1\n",
      "\u001b[32m✔\u001b[39m \u001b[34mpurrr    \u001b[39m 1.0.2     \n",
      "── \u001b[1mConflicts\u001b[22m ────────────────────────────────────────── tidyverse_conflicts() ──\n",
      "\u001b[31m✖\u001b[39m \u001b[34mdplyr\u001b[39m::\u001b[32mfilter()\u001b[39m masks \u001b[34mstats\u001b[39m::filter()\n",
      "\u001b[31m✖\u001b[39m \u001b[34mdplyr\u001b[39m::\u001b[32mlag()\u001b[39m    masks \u001b[34mstats\u001b[39m::lag()\n",
      "\u001b[36mℹ\u001b[39m Use the conflicted package (\u001b[3m\u001b[34m<http://conflicted.r-lib.org/>\u001b[39m\u001b[23m) to force all conflicts to become errors\n"
     ]
    }
   ],
   "source": [
    "# Loading in packages and data\n",
    "library(tidyverse)\n",
    "library(stringr)\n",
    "\n",
    "# healthcare\n",
    "\n",
    "proquest <- read.csv(\"intermediate/healthcare.csv\") # Loading in data\n"
   ]
  },
  {
   "cell_type": "code",
   "execution_count": null,
   "id": "8b4d3876",
   "metadata": {},
   "outputs": [],
   "source": [
    "# Cleaning\n",
    "\n",
    "stopwords <- c(\" i |  me |  my |  myself |  we |  our |  ours |  ourselves |  you |  your |  yours |  yourself |  yourselves |  he |  him |  his |  himself |  she |  her |  hers |  herself |  it |  its |  itself |  they |  them |  their |  theirs |  themselves |  what |  which |  who |  whom |  this |  that |  these |  those |  am |  is |  are |  was |  were |  be |  been |  being |  have |  has |  had |  having |  do |  does |  did |  doing |  would |  should |  could |  ought |  i'm |  you're |  he's |  she's |  it's |  we're |  they're |  i've |  you've |  we've |  they've |  i'd |  you'd |  he'd |  she'd |  we'd |  they'd |  i'll |  you'll |  he'll |  she'll |  we'll |  they'll |  isn't |  aren't |  wasn't |  weren't |  hasn't |  haven't |  hadn't |  doesn't |  don't |  didn't |  won't |  wouldn't |  shan't |  shouldn't |  can't |  cannot |  couldn't |  mustn't |  let's |  that's |  who's |  what's |  here's |  there's |  when's |  where's |  why's |  how's |  a |  an |  the |  and |  but |  if |  or |  because |  as |  until |  while |  of |  at |  by |  for |  with |  about |  against |  between |  into |  through |  during |  before |  after |  above |  below |  to |  from |  up |  down |  in |  out |  on |  off |  over |  under |  again |  further |  then |  once |  here |  there |  when |  where |  why |  how |  all |  any |  both |  each |  few |  more |  most |  other |  some |  such |  no |  nor |  not |  only |  own |  same |  so |  than |  too |  very |  will \")\n",
    "\n",
    "healthcare <- proquest |>\n",
    "mutate(year = substr(Date, start = 1, stop = 4), # Extracting year from date\n",
    "year = as.numeric(year)) |>\n",
    "mutate(Text = gsub(stopwords, \" \", Text)) |> # Removing stopwords\n",
    "mutate(Text = gsub(\" health-care \", \" healthcare \", Text, ignore.case = T), # Selective stemming (healthcare) \n",
    "      Text = gsub(\" health care \", \" healthcare \", Text, ignore.case = T),\n",
    "      Text = gsub(\" health insurance \", \" healthcare \", Text, ignore.case = T)) |> \n",
    "mutate(Text = gsub(\" racism \", \" racialization \", Text, ignore.case = TRUE), # Selective stemming (race)\n",
    "        Text = gsub(\" racial \", \" racialization \", Text, ignore.case = TRUE),\n",
    "        Text = gsub(\" racist \", \" racialization \", Text, ignore.case = TRUE),\n",
    "        Text = gsub(\" racists \", \" racialization \", Text, ignore.case = TRUE),\n",
    "        Text = gsub(\" racialized \", \" racialization \", Text, ignore.case = TRUE),\n",
    "        Text = gsub(\" racializes \", \" racialization \", Text, ignore.case = TRUE),\n",
    "        Text = gsub(\" racialize \", \" racialization \", Text, ignore.case = TRUE),\n",
    "        Text = gsub(\" racializing \", \" racialization \", Text, ignore.case = TRUE)\n",
    "      ) |>\n",
    "mutate(Text = gsub(\" african american \", \" blck \", Text, ignore.case = TRUE), # Selective stemming (blacks)\n",
    "        Text = gsub(\" african americans \", \" blck \", Text, ignore.case = TRUE),\n",
    "        Text = gsub(\" african-american \", \" blck \", Text, ignore.case = TRUE),\n",
    "        Text = gsub(\" blacks \", \" blck \", Text, ignore.case = TRUE),\n",
    "        Text = gsub(\" black men \", \" blck \", Text, ignore.case = TRUE),\n",
    "        Text = gsub(\" black man \", \" blck \", Text, ignore.case = TRUE),\n",
    "        Text = gsub(\" black woman \", \" blck \", Text, ignore.case = TRUE),\n",
    "        Text = gsub(\" black women \", \" blck \", Text, ignore.case = TRUE),\n",
    "        Text = gsub(\" black people \", \" blck \", Text, ignore.case = TRUE)\n",
    "      ) |>\n",
    "mutate(Text = gsub(\" hispanics \", \" hisplat \", Text, ignore.case = TRUE), # Selective stemming (Hispanics)\n",
    "      Text = gsub(\" latino \", \" hisplat \", Text, ignore.case = TRUE),\n",
    "      Text = gsub(\" latina \", \" hisplat \", Text, ignore.case = TRUE),\n",
    "      Text = gsub(\" latinos \", \" hisplat \", Text, ignore.case = TRUE),\n",
    "      Text = gsub(\" latinas \", \" hisplat \", Text, ignore.case = TRUE),\n",
    "      Text = gsub(\" latin american \", \" hisplat \", Text, ignore.case = TRUE),\n",
    "      Text = gsub(\" latin americans \", \" hisplat \", Text, ignore.case = TRUE),\n",
    "      Text = gsub(\" latin-american \", \" hisplat \", Text, ignore.case = TRUE),\n",
    "      Text = gsub(\" latin-americans \", \" hisplat \", Text, ignore.case = TRUE))"
   ]
  },
  {
   "cell_type": "code",
   "execution_count": null,
   "id": "a7eafc7e",
   "metadata": {},
   "outputs": [],
   "source": [
    "# Looping to create txt for each year\n",
    "\n",
    "years <- c(2004:2022)\n",
    "\n",
    "for (year in years) {\n",
    "      tempdf <- healthcare |>\n",
    "        filter(\n",
    "          !is.na(year),\n",
    "          year == year\n",
    "        )\n",
    "\n",
    "      # Collapse article text to character\n",
    "      articles <- paste(tempdf$Text, collapse = \"\\r\\n\")\n",
    "    \n",
    "      sent <- tolower(articles) # 1. Lowercase\n",
    "      sent <- str_replace_all(sent, \"-\", \" \") # 2a. Replace em-dashes\n",
    "      sent <- str_replace_all(sent, \"[:punct:]\", \"\") # 2b. Remove punctuation\n",
    "      sent <- trimws(sent, which = \"both\") # 2c. Remove leading and trailing whitespace\n",
    "    \n",
    "    write.table(sent,\n",
    "        paste0(\"intermediate/healthcare/healthcare_\", year, \".txt\"),\n",
    "        row.names = FALSE,\n",
    "        col.names = FALSE)\n",
    "    }"
   ]
  },
  {
   "cell_type": "code",
   "execution_count": null,
   "id": "5220ee89",
   "metadata": {},
   "outputs": [],
   "source": []
  }
 ],
 "metadata": {
  "kernelspec": {
   "display_name": "R",
   "language": "R",
   "name": "ir"
  },
  "language_info": {
   "codemirror_mode": "r",
   "file_extension": ".r",
   "mimetype": "text/x-r-source",
   "name": "R",
   "pygments_lexer": "r",
   "version": "4.3.3"
  }
 },
 "nbformat": 4,
 "nbformat_minor": 5
}

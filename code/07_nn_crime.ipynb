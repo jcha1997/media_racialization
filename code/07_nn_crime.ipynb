{
 "cells": [
  {
   "cell_type": "code",
   "execution_count": 1,
   "id": "09537b03",
   "metadata": {},
   "outputs": [],
   "source": [
    "import pandas as pd\n",
    "from gensim.models import Word2Vec"
   ]
  },
  {
   "cell_type": "code",
   "execution_count": 2,
   "id": "75b29e8f",
   "metadata": {},
   "outputs": [
    {
     "name": "stdout",
     "output_type": "stream",
     "text": [
      "DataFrame saved to 'word_neighbors.csv'\n"
     ]
    }
   ],
   "source": [
    "def get_nearest_neighbors(model, word, topn=10):\n",
    "    try:\n",
    "        neighbors = model.wv.most_similar(positive=[word], topn=topn)\n",
    "        return [neighbor[0] for neighbor in neighbors]\n",
    "    except KeyError:\n",
    "        print(f\"Word '{word}' not in vocabulary.\")\n",
    "        return []\n",
    "\n",
    "def extract_neighbors_to_dataframe(model, word):\n",
    "    neighbors = get_nearest_neighbors(model, word)\n",
    "    df = pd.DataFrame({'word': [word], 'neighbors': [', '.join(neighbors)]})\n",
    "    return df\n",
    "\n",
    "# Load your Word2Vec model\n",
    "model = Word2Vec.load(\"intermediate/crime.model\")\n",
    "\n",
    "# Word to find neighbors for\n",
    "word = \"krime\"\n",
    "\n",
    "# Extract neighbors and store in DataFrame\n",
    "neighbors_df = extract_neighbors_to_dataframe(model, word)\n",
    "\n",
    "# Save the DataFrame to a CSV file\n",
    "neighbors_df.to_csv(\"crime_word_neighbors.csv\", index=False)\n",
    "\n",
    "print(\"DataFrame saved to 'word_neighbors.csv'\")\n"
   ]
  },
  {
   "cell_type": "code",
   "execution_count": 3,
   "id": "96b9da21",
   "metadata": {},
   "outputs": [
    {
     "name": "stdout",
     "output_type": "stream",
     "text": [
      "    word                                          neighbors\n",
      "0  krime  offenses, violent, murders, offense, committin...\n"
     ]
    }
   ],
   "source": [
    "print(neighbors_df)"
   ]
  }
 ],
 "metadata": {
  "kernelspec": {
   "display_name": "conda_python3",
   "language": "python",
   "name": "conda_python3"
  },
  "language_info": {
   "codemirror_mode": {
    "name": "ipython",
    "version": 3
   },
   "file_extension": ".py",
   "mimetype": "text/x-python",
   "name": "python",
   "nbconvert_exporter": "python",
   "pygments_lexer": "ipython3",
   "version": "3.10.13"
  }
 },
 "nbformat": 4,
 "nbformat_minor": 5
}

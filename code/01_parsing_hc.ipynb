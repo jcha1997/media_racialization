{
 "cells": [
  {
   "cell_type": "code",
   "execution_count": 1,
   "id": "acf5e2d7",
   "metadata": {},
   "outputs": [],
   "source": [
    "import os\n",
    "import pandas as pd\n",
    "import re\n",
    "import string\n",
    "from bs4 import BeautifulSoup\n",
    "from lxml import etree\n",
    "\n",
    "# Libraries for multiprocessing\n",
    "import multiprocessing as mp\n",
    "from multiprocessing import Pool"
   ]
  },
  {
   "cell_type": "code",
   "execution_count": 2,
   "id": "10ba08a5",
   "metadata": {},
   "outputs": [
    {
     "name": "stdout",
     "output_type": "stream",
     "text": [
      "Loaded 48310 documents.\n"
     ]
    }
   ],
   "source": [
    "# Set corpus to the folder of files you want to use\n",
    "corpus = '/home/ec2-user/SageMaker/data/us_healthcare/'\n",
    "\n",
    "# Read in files\n",
    "input_files = os.listdir(corpus)\n",
    "\n",
    "print(\"Loaded\", len(input_files), \"documents.\")"
   ]
  },
  {
   "cell_type": "code",
   "execution_count": 3,
   "id": "901ae9b4",
   "metadata": {},
   "outputs": [],
   "source": [
    "# Modify output_file to desired save name\n",
    "output_file = 'intermediate/healthcare.csv'"
   ]
  },
  {
   "cell_type": "code",
   "execution_count": 4,
   "id": "ce27cf65",
   "metadata": {},
   "outputs": [
    {
     "name": "stdout",
     "output_type": "stream",
     "text": [
      "8\n"
     ]
    }
   ],
   "source": [
    "# Check core count\n",
    "num_cores = mp.cpu_count()\n",
    "print(num_cores)"
   ]
  },
  {
   "cell_type": "code",
   "execution_count": 5,
   "id": "0d2bab2c",
   "metadata": {},
   "outputs": [],
   "source": [
    "# Function to strip html tags from text portion\n",
    "def strip_html_tags(text):\n",
    "    stripped = BeautifulSoup(text).get_text().replace('\\n', ' ').replace('\\\\', '').strip()\n",
    "    return stripped"
   ]
  },
  {
   "cell_type": "code",
   "execution_count": 6,
   "id": "d91d53ce",
   "metadata": {},
   "outputs": [],
   "source": [
    "# Retrieve metadata from XML document\n",
    "def getxmlcontent(corpus, file, strip_html=True):\n",
    "    try:\n",
    "        tree = etree.parse(corpus + file)\n",
    "        root = tree.getroot()\n",
    "\n",
    "        if root.find('.//GOID') is not None:\n",
    "            goid = root.find('.//GOID').text\n",
    "        else:\n",
    "            goid = None\n",
    "\n",
    "        if root.find('.//Title') is not None:\n",
    "            title = root.find('.//Title').text\n",
    "        else:\n",
    "            title = None\n",
    "\n",
    "        if root.find('.//NumericDate') is not None:\n",
    "            date = root.find('.//NumericDate').text\n",
    "        else:\n",
    "            date = None\n",
    "            \n",
    "        if root.find('.//PublisherName') is not None:\n",
    "            publisher = root.find('.//PublisherName').text\n",
    "        else:\n",
    "            publisher = None\n",
    "\n",
    "        if root.find('.//FullText') is not None:\n",
    "            text = root.find('.//FullText').text\n",
    "\n",
    "        elif root.find('.//HiddenText') is not None:\n",
    "            text = root.find('.//HiddenText').text\n",
    "\n",
    "        elif root.find('.//Text') is not None:\n",
    "            text = root.find('.//Text').text\n",
    "\n",
    "        else:\n",
    "            text = None\n",
    "\n",
    "        # Strip html from text portion\n",
    "        if text is not None and strip_html == True:\n",
    "            text = strip_html_tags(text)\n",
    "    \n",
    "    except Exception as e:\n",
    "        print(f\"Error while parsing file {file}: {e}\")\n",
    "    \n",
    "    return goid, title, date, publisher, text"
   ]
  },
  {
   "cell_type": "code",
   "execution_count": 7,
   "id": "72aa14c7",
   "metadata": {},
   "outputs": [],
   "source": [
    "# Function to make lists out of parsed data--on single document scale for multiprocessing\n",
    "def make_lists(file):\n",
    "    \n",
    "    goid, title, date, publisher, text = getxmlcontent(corpus, file, strip_html=True)\n",
    "    \n",
    "    if isinstance(text, str):\n",
    "        # 1. Lowercase\n",
    "        text = text.lower() # 1. Lowercase\n",
    "        \n",
    "        # 2. Remove punctuation\n",
    "        translator = str.maketrans(string.punctuation, \" \" * len(string.punctuation))\n",
    "        text = text.translate(translator)\n",
    "        \n",
    "        # 3. Remove stopwords\n",
    "        # Define a set of common English stop words\n",
    "        stop_words = {'i', 'me', 'my', 'myself', 'we', 'our', 'ours', 'ourselves', 'you', \"you're\", \"you've\",\n",
    "                      \"you'll\", \"you'd\", 'your', 'yours', 'yourself', 'yourselves', 'he', 'him', 'his', 'himself',\n",
    "                      'she', \"she's\", 'her', 'hers', 'herself', 'it', \"it's\", 'its', 'itself', 'they', 'them', 'their',\n",
    "                      'theirs', 'themselves', 'what', 'which', 'who', 'whom', 'this', 'that', \"that'll\", 'these', 'those',\n",
    "                      'am', 'is', 'are', 'was', 'were', 'be', 'been', 'being', 'have', 'has', 'had', 'having', 'do', 'does',\n",
    "                      'did', 'doing', 'a', 'an', 'the', 'and', 'but', 'if', 'or', 'because', 'as', 'until', 'while', 'of', 'at',\n",
    "                      'by', 'for', 'with', 'about', 'against', 'between', 'into', 'through', 'during', 'before', 'after', 'above',\n",
    "                      'below', 'to', 'from', 'up', 'down', 'in', 'out', 'on', 'off', 'over', 'under', 'again', 'further', 'then',\n",
    "                      'once', 'here', 'there', 'when', 'where', 'why', 'how', 'all', 'any', 'both', 'each', 'few', 'more', 'most',\n",
    "                      'other', 'some', 'such', 'no', 'nor', 'not', 'only', 'own', 'same', 'so', 'than', 'too', 'very', 's', 't', 'can',\n",
    "                      'will', 'just', 'don', \"don't\", 'should', \"should've\", 'now', 'd', 'll', 'm', 'o', 're', 've', 'y', 'ain', 'aren',\n",
    "                      \"aren't\", 'couldn', \"couldn't\", 'didn', \"didn't\", 'doesn', \"doesn't\", 'hadn', \"hadn't\", 'hasn', \"hasn't\", 'haven',\n",
    "                      \"haven't\", 'isn', \"isn't\", 'ma', 'mightn', \"mightn't\", 'mustn', \"mustn't\", 'needn', \"needn't\", 'shan', \"shan't\",\n",
    "                      'shouldn', \"shouldn't\", 'wasn', \"wasn't\", 'weren', \"weren't\", 'won', \"won't\", 'wouldn', \"wouldn't\"}\n",
    "        \n",
    "        words = text.split()\n",
    "        filtered_words = [word for word in words if word not in stop_words]\n",
    "        text = ' '.join(filtered_words)\n",
    "        \n",
    "        # 4. Remove numbers\n",
    "        text = re.sub(r'\\d+', '', text)\n",
    "        \n",
    "        # 5. Selection Stemming\n",
    "        ## Healthcare\n",
    "        text = re.sub(\"health-care\", \"healthcare\", text)\n",
    "        text = re.sub(\"health care\", \"healthcare\", text)\n",
    "        text = re.sub(\"health insuranc \", \"healthcare\", text)\n",
    "        ## Obamacare\n",
    "        text = re.sub(r\"\\b(obama-care|obama\\s+care)\\b\", \"obamacare\", text)\n",
    "        ## Replace terms related to race with \"racialization\"\n",
    "        text = re.sub(r\"\\b(racism|racial|racist|racists|racialized|racializes|racialize|racializing)\\b\", \"racialization\", text, flags=re.IGNORECASE)\n",
    "        ## Replace terms related to African Americans with \"blck\"\n",
    "        text = re.sub(r\"\\b(african\\s+american|african\\s+americans|african-american|blacks|black\\s+men|black\\s+man|black\\s+woman|black\\s+women|black\\s+people)\\b\", \"blck\", text, flags=re.IGNORECASE)\n",
    "        ## Replace terms related to Hispanic/Latino with \"latinxdad\"\n",
    "        text = re.sub(r\"\\b(hispanic|hispanic\\s+americans|hispanic\\s+american|latinos|latinas|latino|latina|latin\\s+americans|latin\\s+american|latinx|central\\s+americans|central\\s+american|mexicans|mexican|mexican\\s+americans|mexican\\s+american|cubans|cuban|cuban\\s+americans|cuban\\s+american|salvadorans|salvadoran)\\b\", \"latinxdad\", text, flags=re.IGNORECASE)\n",
    "        ## Replace terms related to Asian with \"azn\"\n",
    "        text = re.sub(r\"\\b(asian\\s+americans|asian\\s+american|asians|asian|pan\\s+asian|chinese|chinese\\s+americans|chinese\\s+american|phillipines|filipinos|filipino|filipino\\s+americans|filipino\\s+american|vietnamese|vietnamese\\s+americans|vietnamese\\s+american|koreans|korean|korean\\s+americans|korean\\s+american|japanese|japanese\\s+americans|japanese\\s+american|cambodians|cambodian|cambodian\\s+americans|cambodian\\s+american|khmer|laos|lao|laotians|laotian|laotian\\s+americans|laotian\\s+american|hmong|hmong\\s+americans|hmong\\s+american|thai|thai\\s+americans|thai\\s+american)\\b\", \"azn\", text, flags=re.IGNORECASE)\n",
    "        \n",
    "        \n",
    "        # 6. Extracting year\n",
    "        match = re.search(r'\\d{4}',date)\n",
    "        if match:\n",
    "            year = int(match.group())\n",
    "        else:\n",
    "            year = None\n",
    "        return goid, publisher, text, date, year\n",
    "    else: \n",
    "        # 5. Extracting year\n",
    "        match = re.search(r'\\d{4}',date)\n",
    "        if match:\n",
    "            year = int(match.group())\n",
    "        else:\n",
    "            year = None\n",
    "        return goid, publisher, text, date, year"
   ]
  },
  {
   "cell_type": "code",
   "execution_count": 8,
   "id": "2f46de7c",
   "metadata": {},
   "outputs": [],
   "source": [
    "# When using multiple processes, important to eventually close them to avoid memory/resource leaks\n",
    "try:\n",
    "    # Define a thread Pool to process multiple XML files simultaneously\n",
    "    # Default set to num_cores - 1, but may change number of processes depending on instance\n",
    "    p = Pool(processes=num_cores-1)\n",
    "    \n",
    "    # Apply function with Pool to corpus\n",
    "    processed_lists = p.map(make_lists, input_files)\n",
    "\n",
    "except Exception as e:\n",
    "    print(f\"Error in processing document: {e}\")\n",
    "    \n",
    "finally:\n",
    "    p.close()"
   ]
  },
  {
   "cell_type": "code",
   "execution_count": 9,
   "id": "4b264c08",
   "metadata": {},
   "outputs": [],
   "source": [
    "# Transform processed data into a dataframe\n",
    "df = pd.DataFrame(processed_lists, columns=['GOID', 'Publisher', 'Text', 'Date', 'Year'])"
   ]
  },
  {
   "cell_type": "code",
   "execution_count": 10,
   "id": "767aaa49",
   "metadata": {},
   "outputs": [],
   "source": [
    "# Save output to file\n",
    "df.to_csv(output_file)"
   ]
  }
 ],
 "metadata": {
  "kernelspec": {
   "display_name": "sample-2022.05.25",
   "language": "python",
   "name": "sample-2022.05.25"
  },
  "language_info": {
   "codemirror_mode": {
    "name": "ipython",
    "version": 3
   },
   "file_extension": ".py",
   "mimetype": "text/x-python",
   "name": "python",
   "nbconvert_exporter": "python",
   "pygments_lexer": "ipython3",
   "version": "3.9.10"
  }
 },
 "nbformat": 4,
 "nbformat_minor": 5
}

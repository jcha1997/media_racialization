{
 "cells": [
  {
   "cell_type": "code",
   "execution_count": 1,
   "id": "57d89d9b",
   "metadata": {},
   "outputs": [
    {
     "name": "stderr",
     "output_type": "stream",
     "text": [
      "/tmp/ipykernel_20499/1344286208.py:32: FutureWarning: The behavior of DataFrame concatenation with empty or all-NA entries is deprecated. In a future version, this will no longer exclude empty or all-NA columns when determining the result dtypes. To retain the old behavior, exclude the relevant entries before the concat operation.\n",
      "  means_wCI = pd.concat([means_wCI, pd.DataFrame(stats, columns=['mean', 'ci low', 'ci high'])], ignore_index=True)\n"
     ]
    }
   ],
   "source": [
    "import numpy\n",
    "import pickle\n",
    "import csv\n",
    "import os\n",
    "import math\n",
    "import random\n",
    "import pandas as pd\n",
    "from gensim.models import Word2Vec\n",
    "\n",
    "# Healthcare 2004-2022 Script\n",
    "\n",
    "eras = ['2004', '2005', '2006', '2007', '2008', '2009', '2010', '2011', '2012', '2013', '2014', '2015', '2016', '2017', '2018', '2019', '2020', '2021', '2022']\n",
    "\n",
    "with open(\"aggregate_models/healthcare_chrono_model_output.pickle\", 'rb') as f:\n",
    "    stat_types = pickle.load(f)               \n",
    "    \n",
    "## Finding means\n",
    "\n",
    "means_wCI = pd.DataFrame(columns=['mean', 'ci low', 'ci high'])\n",
    "\n",
    "for t in stat_types:\n",
    "    stats = []\n",
    "    for e in range(0, len(t)):\n",
    "        test = [score for score in t[e] if score != 'NA']\n",
    "        test = numpy.asarray(test)\n",
    "        test_mean = test[0:99].mean()                   # Specify the number of samples to use\n",
    "        test_error = 1.96 * (test.std() / math.sqrt(100))  # Specify the number of samples you used\n",
    "        test_lowci = test_mean - test_error\n",
    "        test_highci = test_mean + test_error\n",
    "        test_stats = [test_mean, test_lowci, test_highci]\n",
    "        stats.append(test_stats)\n",
    "    means_wCI = pd.concat([means_wCI, pd.DataFrame(stats, columns=['mean', 'ci low', 'ci high'])], ignore_index=True)\n",
    "\n",
    "partition = len(means_wCI) // len(stat_types)    \n",
    "policy = ['racialization', 'obamacare', 'obama', 'gender', 'poverty', 'black', 'placebo']\n",
    "means_wCI['type'] = numpy.repeat(policy, partition)\n",
    "\n",
    "## Exporting as a .csv file for visualization in R\n",
    "\n",
    "means_wCI['year'] = eras*len(stat_types)\n",
    "\n",
    "means_wCI.to_csv('healthcare_chrono_means_wCI.csv')"
   ]
  }
 ],
 "metadata": {
  "kernelspec": {
   "display_name": "conda_python3",
   "language": "python",
   "name": "conda_python3"
  },
  "language_info": {
   "codemirror_mode": {
    "name": "ipython",
    "version": 3
   },
   "file_extension": ".py",
   "mimetype": "text/x-python",
   "name": "python",
   "nbconvert_exporter": "python",
   "pygments_lexer": "ipython3",
   "version": "3.10.13"
  }
 },
 "nbformat": 4,
 "nbformat_minor": 5
}

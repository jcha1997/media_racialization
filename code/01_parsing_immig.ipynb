{
 "cells": [
  {
   "cell_type": "code",
   "execution_count": 1,
   "id": "acf5e2d7",
   "metadata": {},
   "outputs": [],
   "source": [
    "import os\n",
    "import pandas as pd\n",
    "import re\n",
    "import string\n",
    "from bs4 import BeautifulSoup\n",
    "from lxml import etree\n",
    "\n",
    "# Libraries for multiprocessing\n",
    "import multiprocessing as mp\n",
    "from multiprocessing import Pool"
   ]
  },
  {
   "cell_type": "code",
   "execution_count": 2,
   "id": "10ba08a5",
   "metadata": {},
   "outputs": [
    {
     "data": {
      "text/plain": [
       "14"
      ]
     },
     "execution_count": 2,
     "metadata": {},
     "output_type": "execute_result"
    }
   ],
   "source": [
    "# Set corpus to the folder of files you want to use\n",
    "corpus = '/home/ec2-user/SageMaker/data/immigration/'\n",
    "\n",
    "# Read in files\n",
    "input_files = os.listdir(corpus)\n",
    "len(input_files[1])"
   ]
  },
  {
   "cell_type": "code",
   "execution_count": 3,
   "id": "901ae9b4",
   "metadata": {},
   "outputs": [],
   "source": [
    "# Modify output_file to desired save name\n",
    "output_file = 'intermediate/immigration.csv'"
   ]
  },
  {
   "cell_type": "code",
   "execution_count": 4,
   "id": "ce27cf65",
   "metadata": {},
   "outputs": [
    {
     "name": "stdout",
     "output_type": "stream",
     "text": [
      "8\n"
     ]
    }
   ],
   "source": [
    "# Check core count\n",
    "num_cores = mp.cpu_count()\n",
    "print(num_cores)"
   ]
  },
  {
   "cell_type": "code",
   "execution_count": 5,
   "id": "0d2bab2c",
   "metadata": {},
   "outputs": [],
   "source": [
    "# Function to strip html tags from text portion\n",
    "def strip_html_tags(text):\n",
    "    stripped = BeautifulSoup(text).get_text().replace('\\n', ' ').replace('\\\\', '').strip()\n",
    "    return stripped"
   ]
  },
  {
   "cell_type": "code",
   "execution_count": 6,
   "id": "d91d53ce",
   "metadata": {},
   "outputs": [],
   "source": [
    "# Retrieve metadata from XML document\n",
    "def getxmlcontent(corpus, file, strip_html=True):\n",
    "    try:\n",
    "        tree = etree.parse(corpus + file)\n",
    "        root = tree.getroot()\n",
    "\n",
    "        if root.find('.//GOID') is not None:\n",
    "            goid = root.find('.//GOID').text\n",
    "        else:\n",
    "            goid = None\n",
    "\n",
    "        if root.find('.//Title') is not None:\n",
    "            title = root.find('.//Title').text\n",
    "        else:\n",
    "            title = None\n",
    "\n",
    "        if root.find('.//NumericDate') is not None:\n",
    "            date = root.find('.//NumericDate').text\n",
    "        else:\n",
    "            date = None\n",
    "            \n",
    "        if root.find('.//PublisherName') is not None:\n",
    "            publisher = root.find('.//PublisherName').text\n",
    "        else:\n",
    "            publisher = None\n",
    "\n",
    "        if root.find('.//FullText') is not None:\n",
    "            text = root.find('.//FullText').text\n",
    "\n",
    "        elif root.find('.//HiddenText') is not None:\n",
    "            text = root.find('.//HiddenText').text\n",
    "\n",
    "        elif root.find('.//Text') is not None:\n",
    "            text = root.find('.//Text').text\n",
    "\n",
    "        else:\n",
    "            text = None\n",
    "\n",
    "        # Strip html from text portion\n",
    "        if text is not None and strip_html == True:\n",
    "            text = strip_html_tags(text)\n",
    "    \n",
    "    except Exception as e:\n",
    "        print(f\"Error while parsing file {file}: {e}\")\n",
    "    \n",
    "    return goid, title, date, publisher, text"
   ]
  },
  {
   "cell_type": "code",
   "execution_count": 7,
   "id": "29e0774a",
   "metadata": {},
   "outputs": [
    {
     "data": {
      "text/plain": [
       "('2461678459',\n",
       " \"A rare reversal in a stunning drug case; Mexico was incensed when its ex-defense chief was arrested in L.A. Now he'll return home a free man.\",\n",
       " '2020-11-19',\n",
       " 'Los Angeles Times Communications LLC',\n",
       " 'Less than a week after a former Mexican defense secretary was arrested on drug trafficking charges at Los Angeles International Airport last month, Mexican authorities summoned the U.S. ambassador to express their dismay -- an action followed by a formal note of protest to Washington. Angry that U.S. authorities had pursued the case without informing Mexico, Marcelo Ebrard, the foreign secretary, warned that Mexico was considering scaling back its collaboration with the U.S. Drug Enforcement Administration. \"There will be cooperation, but it will have to be on another footing,\" Ebrard told Proceso, a Mexican weekly magazine.  It was a rare threat, however veiled, from the government of President Andres Manuel Lopez Obrador against the United States. But the president and his allies in the military command got their wish Wednesday, when a federal judge in Brooklyn, N.Y., approved a request from U.S. prosecutors to drop the charges against the 72-year-old retired general, Salvador Cienfuegos Zepeda, and repatriate him to Mexico. In explaining the extraordinary decision to suddenly end a multiyear investigation, U.S. authorities said in legal filings that \"sensitive and important foreign policy considerations outweigh the government\\'s interest in pursuing the prosecution of the defendant.\" U.S. law enforcement authorities have long had a close, if sometimes bumpy, working relationship with their Mexican counterparts on a number of binational issues, notably narcotics trafficking, weapons smuggling and immigration. About 50 DEA agents are stationed in Mexico, according to the foreign ministry. The deal to free Cienfuegos stunned observers in both the United States and Mexico and raised doubts about whether he will ever face charges in Mexico, which has a dismal record of prosecuting high-level corruption. Lopez Obrador, who called the deal to free Cienfuegos \"incredible\" and \"exceptional,\" said Mexican officials would review the evidence forwarded by U.S. authorities and decide whether to prosecute the case. But the U.S.-Mexico arrangement guarantees only that Mexico will investigate Cienfuegos, not that he will face charges here. He returns to Mexico a free man. Lopez Obrador told reporters Wednesday that there would be \"impunity for no one,\" but he added that \"at the same time we are not going to allow in any case that crimes be fabricated.\" Cienfuegos, who has been in custody in New York, pleaded not guilty to charges of drug smuggling and money laundering and signed off on the deal repatriating him to Mexico. Lopez Obrador has developed a close relationship with President Trump, sparking speculation here that the Trump administration may have agreed to drop the charges as a favor to him. Lopez Obrador is one of the few world leaders not to have congratulated Democrat Joe Biden on his election as president this month. But Ebrard, the Mexican foreign minister, said the U.S.-Mexico deal on Cienfuegos had nothing to do with the U.S. electoral process. The U.S. about-face is especially stunning because U.S. prosecutors went to great lengths to keep the charges secret from Mexican authorities. U.S. authorities sealed the 2019 indictment against Cienfuegos and never sought his formal extradition from Mexico, instead nabbing him Oct. 15 upon his arrival at LAX with his family. Once Cienfuegos was in custody, prosecutors successfully argued that the former defense chief be held without bail, asserting that otherwise he would probably flee to Mexico, where cartel confederates and \"former high-level corrupt government officials\" would protect him. Now, U.S. officials are returning Cienfuegos to the very place where they feared he would be sheltered from justice. Cienfuegos, who served for more than 50 years in the Mexican military, was the defense minister from 2012 to 2018 in the administration of President Enrique Pena Nieto, the predecessor of Lopez Obrador. U.S. prosecutors said they had amassed a \"strong\" case against Cienfuegos, based in part on thousands of intercepted BlackBerry communications. His nickname, prosecutors said, was El Padrino, or \"the Godfather,\" and U.S. authorities alleged that he was a key cartel fixer who, in exchange for bribes, helped facilitate the smuggling of \"thousands of kilograms of cocaine, heroin, methamphetamine and marijuana into the United States,\" according to court filings. Among other alleged acts, Cienfuegos was accused of shielding mob partners from military operations, initiating actions against rival gangs, arranging maritime transport for drug shipments, helping expand mob turf and introducing confederates to \"other corrupt Mexican government officials willing to assist in exchange for bribes.\" He was also accused of tipping off accomplices to U.S. law enforcement actions. As defense minister, Cienfuegos had contacts with high-level U.S. officials, including a 2017 meeting in Mexico with John F. Kelly, then Trump\\'s chief of staff. Kelly, Cienfuegos and other Mexican top brass were present at a July 2017 operation in which the military destroyed five fields of opium poppies, the Mexican defense ministry said. A year later, a Pentagon study center in 2018 awarded Cienfuegos its prestigious William J. Perry Award for Excellence in Security and Defense Education. -- Special correspondent Cecilia Sanchez contributed to this report. Caption: PHOTO: RETIRED GEN. Salvador Cienfuegos Zepeda appears in a court sketch last month. The drug trafficking case against him, which prosecutors called \"strong,\" has been dropped after resistance from Mexican authorities. PHOTOGRAPHER:Bill Robles Associated Press')"
      ]
     },
     "execution_count": 7,
     "metadata": {},
     "output_type": "execute_result"
    }
   ],
   "source": [
    "text = getxmlcontent(corpus, input_files[1], strip_html = True)\n",
    "text"
   ]
  },
  {
   "cell_type": "code",
   "execution_count": 8,
   "id": "72aa14c7",
   "metadata": {},
   "outputs": [],
   "source": [
    "# Function to make lists out of parsed data--on single document scale for multiprocessing\n",
    "def make_lists(file):\n",
    "    \n",
    "    goid, title, date, publisher, text = getxmlcontent(corpus, file, strip_html=True)\n",
    "    \n",
    "    if isinstance(text, str):\n",
    "        # 1. Lowercase\n",
    "        text = text.lower() # 1. Lowercase\n",
    "        \n",
    "        # 2. Remove punctuation\n",
    "        translator = str.maketrans(string.punctuation, \" \" * len(string.punctuation))\n",
    "        text = text.translate(translator)\n",
    "        \n",
    "        # 3. Remove stopwords\n",
    "        # Define a set of common English stop words\n",
    "        stop_words = {'i', 'me', 'my', 'myself', 'we', 'our', 'ours', 'ourselves', 'you', \"you're\", \"you've\",\n",
    "                      \"you'll\", \"you'd\", 'your', 'yours', 'yourself', 'yourselves', 'he', 'him', 'his', 'himself',\n",
    "                      'she', \"she's\", 'her', 'hers', 'herself', 'it', \"it's\", 'its', 'itself', 'they', 'them', 'their',\n",
    "                      'theirs', 'themselves', 'what', 'which', 'who', 'whom', 'this', 'that', \"that'll\", 'these', 'those',\n",
    "                      'am', 'is', 'are', 'was', 'were', 'be', 'been', 'being', 'have', 'has', 'had', 'having', 'do', 'does',\n",
    "                      'did', 'doing', 'a', 'an', 'the', 'and', 'but', 'if', 'or', 'because', 'as', 'until', 'while', 'of', 'at',\n",
    "                      'by', 'for', 'with', 'about', 'against', 'between', 'into', 'through', 'during', 'before', 'after', 'above',\n",
    "                      'below', 'to', 'from', 'up', 'down', 'in', 'out', 'on', 'off', 'over', 'under', 'again', 'further', 'then',\n",
    "                      'once', 'here', 'there', 'when', 'where', 'why', 'how', 'all', 'any', 'both', 'each', 'few', 'more', 'most',\n",
    "                      'other', 'some', 'such', 'no', 'nor', 'not', 'only', 'own', 'same', 'so', 'than', 'too', 'very', 's', 't', 'can',\n",
    "                      'will', 'just', 'don', \"don't\", 'should', \"should've\", 'now', 'd', 'll', 'm', 'o', 're', 've', 'y', 'ain', 'aren',\n",
    "                      \"aren't\", 'couldn', \"couldn't\", 'didn', \"didn't\", 'doesn', \"doesn't\", 'hadn', \"hadn't\", 'hasn', \"hasn't\", 'haven',\n",
    "                      \"haven't\", 'isn', \"isn't\", 'ma', 'mightn', \"mightn't\", 'mustn', \"mustn't\", 'needn', \"needn't\", 'shan', \"shan't\",\n",
    "                      'shouldn', \"shouldn't\", 'wasn', \"wasn't\", 'weren', \"weren't\", 'won', \"won't\", 'wouldn', \"wouldn't\"}\n",
    "        \n",
    "        words = text.split()\n",
    "        filtered_words = [word for word in words if word not in stop_words]\n",
    "        text = ' '.join(filtered_words)\n",
    "        \n",
    "        # 4. Remove numbers\n",
    "        text = re.sub(r'\\d+', '', text)\n",
    "        \n",
    "        # 5. Selection Stemming\n",
    "        ## Immigration\n",
    "        text = re.sub(r\"\\b(immigrants|immigrant|migrants|migrant|migration)\\b\", \"immigration\", text, flags=re.IGNORECASE)\n",
    "        ## Replace terms related to race with \"racialization\"\n",
    "        text = re.sub(r\"\\b(racism|racial|racist|racists|racialized|racializes|racialize|racializing)\\b\", \"racialization\", text, flags=re.IGNORECASE)\n",
    "        ## Replace terms related to African Americans with \"blck\"\n",
    "        text = re.sub(r\"\\b(african\\s+american|african\\s+americans|african-american|blacks|black\\s+men|black\\s+man|black\\s+woman|black\\s+women|black\\s+people)\\b\", \"blck\", text, flags=re.IGNORECASE)\n",
    "        ## Replace terms related to Hispanic/Latino with \"latinxdad\"\n",
    "        text = re.sub(r\"\\b(hispanic|hispanic\\s+americans|hispanic\\s+american|latinos|latinas|latino|latina|latin\\s+americans|latin\\s+american|latinx|central\\s+americans|central\\s+american|mexicans|mexican|mexican\\s+americans|mexican\\s+american|cubans|cuban|cuban\\s+americans|cuban\\s+american|salvadorans|salvadoran)\\b\", \"latinxdad\", text, flags=re.IGNORECASE)\n",
    "        ## Replace terms related to Asian with \"azn\"\n",
    "        text = re.sub(r\"\\b(asian\\s+americans|asian\\s+american|asians|asian|pan\\s+asian|chinese|chinese\\s+americans|chinese\\s+american|phillipines|filipinos|filipino|filipino\\s+americans|filipino\\s+american|vietnamese|vietnamese\\s+americans|vietnamese\\s+american|koreans|korean|korean\\s+americans|korean\\s+american|japanese|japanese\\s+americans|japanese\\s+american|cambodians|cambodian|cambodian\\s+americans|cambodian\\s+american|khmer|laos|lao|laotians|laotian|laotian\\s+americans|laotian\\s+american|hmong|hmong\\s+americans|hmong\\s+american|thai|thai\\s+americans|thai\\s+american)\\b\", \"azn\", text, flags=re.IGNORECASE)\n",
    "        \n",
    "        # 6. Extracting year\n",
    "        match = re.search(r'\\d{4}',date)\n",
    "        if match:\n",
    "            year = int(match.group())\n",
    "        else:\n",
    "            year = None\n",
    "        return goid, publisher, text, date, year\n",
    "    else: \n",
    "        # 5. Extracting year\n",
    "        match = re.search(r'\\d{4}',date)\n",
    "        if match:\n",
    "            year = int(match.group())\n",
    "        else:\n",
    "            year = None\n",
    "        return goid, publisher, text, date, year"
   ]
  },
  {
   "cell_type": "code",
   "execution_count": 9,
   "id": "2f46de7c",
   "metadata": {},
   "outputs": [],
   "source": [
    "# When using multiple processes, important to eventually close them to avoid memory/resource leaks\n",
    "try:\n",
    "    # Define a thread Pool to process multiple XML files simultaneously\n",
    "    # Default set to num_cores - 1, but may change number of processes depending on instance\n",
    "    p = Pool(processes=num_cores-1)\n",
    "    \n",
    "    # Apply function with Pool to corpus\n",
    "    processed_lists = p.map(make_lists, input_files)\n",
    "\n",
    "except Exception as e:\n",
    "    print(f\"Error in processing document: {e}\")\n",
    "    \n",
    "finally:\n",
    "    p.close()"
   ]
  },
  {
   "cell_type": "code",
   "execution_count": 10,
   "id": "4b264c08",
   "metadata": {},
   "outputs": [],
   "source": [
    "# Transform processed data into a dataframe\n",
    "df = pd.DataFrame(processed_lists, columns=['GOID', 'Publisher', 'Text', 'Date', 'Year'])"
   ]
  },
  {
   "cell_type": "code",
   "execution_count": 11,
   "id": "767aaa49",
   "metadata": {},
   "outputs": [],
   "source": [
    "# Save output to file\n",
    "df.to_csv(output_file)"
   ]
  }
 ],
 "metadata": {
  "kernelspec": {
   "display_name": "sample-2022.05.25",
   "language": "python",
   "name": "sample-2022.05.25"
  },
  "language_info": {
   "codemirror_mode": {
    "name": "ipython",
    "version": 3
   },
   "file_extension": ".py",
   "mimetype": "text/x-python",
   "name": "python",
   "nbconvert_exporter": "python",
   "pygments_lexer": "ipython3",
   "version": "3.9.10"
  }
 },
 "nbformat": 4,
 "nbformat_minor": 5
}

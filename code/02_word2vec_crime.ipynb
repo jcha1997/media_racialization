{
 "cells": [
  {
   "cell_type": "code",
   "execution_count": 7,
   "id": "975541be",
   "metadata": {},
   "outputs": [
    {
     "data": {
      "text/plain": [
       "0    vatican former ambassador united states quashe...\n",
       "1    white house denied president trump briefed cla...\n",
       "2    photo provided miami dade county corrections s...\n",
       "3    republicans challenging president characteriza...\n",
       "4    imposing lengthy prison terms four former empl...\n",
       "Name: Text, dtype: object"
      ]
     },
     "execution_count": 7,
     "metadata": {},
     "output_type": "execute_result"
    }
   ],
   "source": [
    "import numpy\n",
    "import pickle\n",
    "import csv\n",
    "import os\n",
    "import math\n",
    "import random\n",
    "import pandas as pd\n",
    "import re\n",
    "from gensim.models import Word2Vec\n",
    "\n",
    "import multiprocessing as mp\n",
    "\n",
    "# Loading in Healthcare articles\n",
    "\n",
    "csv_file_path = \"intermediate/crime.csv\"\n",
    "\n",
    "df = pd.read_csv(csv_file_path, engine='python')\n",
    "df = df.dropna(subset=['Year'])\n",
    "df = df.loc[(df['Year']>=2004) & (df['Year']<=2022)]\n",
    "df = df.drop('Unnamed: 0', axis = 1)"
   ]
  },
  {
   "cell_type": "code",
   "execution_count": 2,
   "id": "6cf0cc36",
   "metadata": {},
   "outputs": [],
   "source": [
    "eras = range(2004,2023)\n",
    "\n",
    "data = []\n",
    "\n",
    "for era in eras:\n",
    "    condition = df['Year'] == era\n",
    "    filtered_df = df.loc[condition, 'Text']\n",
    "    x = '\\n'.join(filtered_df.astype(str))\n",
    "    data.append(x.split('\\n'))\n",
    "\n",
    "list_of_lists = []"
   ]
  },
  {
   "cell_type": "code",
   "execution_count": 3,
   "id": "f5097447",
   "metadata": {},
   "outputs": [],
   "source": [
    "try:\n",
    "    for i in data:\n",
    "        sentence_lists = []\n",
    "        for article in range(len(i)):  # No need to specify 0 as start\n",
    "            x = i[article].split()\n",
    "            sentence_lists.append(x)\n",
    "        list_of_lists.append(sentence_lists)\n",
    "except Exception as e:\n",
    "    print(\"An error occurred:\", e)\n",
    "    # Handle the error appropriately, e.g., logging, reducing data size, etc.\n",
    " "
   ]
  },
  {
   "cell_type": "code",
   "execution_count": 4,
   "id": "b723f64c",
   "metadata": {},
   "outputs": [],
   "source": [
    "with open('intermediate/crime_corpus.pickle', 'wb') as f:\n",
    "    pickle.dump(list_of_lists, f)"
   ]
  },
  {
   "cell_type": "code",
   "execution_count": 5,
   "id": "cd7d8198",
   "metadata": {},
   "outputs": [],
   "source": [
    "full_corpus = []\n",
    "flatten = [item for sublist in list_of_lists for item in sublist]\n",
    "full_corpus.extend(flatten)\n",
    "del list_of_lists"
   ]
  },
  {
   "cell_type": "code",
   "execution_count": 6,
   "id": "49e2caf7",
   "metadata": {},
   "outputs": [],
   "source": [
    "num_cores = mp.cpu_count()\n",
    "\n",
    "start_model = Word2Vec(full_corpus, vector_size = 300, min_count = 100, epochs = 10, sg = 1, hs = 0, negative = 5, window = 6, workers = num_cores-1)\n",
    "\n",
    "model_name = \"intermediate/crime.model\"\n",
    "\n",
    "start_model.save(model_name)"
   ]
  }
 ],
 "metadata": {
  "kernelspec": {
   "display_name": "conda_python3",
   "language": "python",
   "name": "conda_python3"
  },
  "language_info": {
   "codemirror_mode": {
    "name": "ipython",
    "version": 3
   },
   "file_extension": ".py",
   "mimetype": "text/x-python",
   "name": "python",
   "nbconvert_exporter": "python",
   "pygments_lexer": "ipython3",
   "version": "3.10.13"
  }
 },
 "nbformat": 4,
 "nbformat_minor": 5
}

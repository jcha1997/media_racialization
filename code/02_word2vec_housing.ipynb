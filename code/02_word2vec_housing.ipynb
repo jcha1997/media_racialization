{
 "cells": [
  {
   "cell_type": "code",
   "execution_count": null,
   "id": "6cf0cc36",
   "metadata": {},
   "outputs": [],
   "source": [
    "import numpy as np\n",
    "import pickle\n",
    "import csv\n",
    "import os\n",
    "import math\n",
    "import random\n",
    "import pandas as pd\n",
    "from gensim.models import Word2Vec\n",
    "import multiprocessing as mp\n",
    "\n",
    "# Load in Healthcare articles\n",
    "csv_file_path = \"intermediate/local_housing.csv\"\n",
    "df = pd.read_csv(csv_file_path)\n",
    "eras = range(2000, 2023)\n",
    "counties = df['Publisher'].unique()\n",
    "\n",
    "def process_county(county):\n",
    "    data = []\n",
    "    for era in eras:\n",
    "        filtered_df = df.dropna(subset=['Year'])\n",
    "        condition = (filtered_df['Year'] == era) & (filtered_df['Publisher'] == county)\n",
    "        county_df = filtered_df.loc[condition, 'Text']\n",
    "        x = '\\n'.join(county_df.astype(str))\n",
    "        data.extend(x.split('\\n'))\n",
    "    return data\n",
    "\n",
    "# Parallelize the processing\n",
    "num_cores = mp.cpu_count()\n",
    "pool = mp.Pool(num_cores)\n",
    "\n",
    "data = pool.map(process_county, counties)\n",
    "pool.close()\n",
    "pool.join()\n",
    "\n",
    "list_of_lists = ([sentence.split() for sentence in county_data] for county_data in data)\n",
    "\n",
    "with open('intermediate/housing_corpus.pickle', 'wb') as f:\n",
    "    pickle.dump(list_of_lists, f)\n",
    "\n",
    "full_corpus = [item for sublist in list_of_lists for item in sublist]\n",
    "\n",
    "# Train Word2Vec model\n",
    "start_model = Word2Vec(full_corpus, vector_size=300, min_count=100, epochs=10, sg=1, hs=0, negative=5, window=6, workers=num_cores-1)\n",
    "\n",
    "model_name = \"intermediate/housing.model\"\n",
    "start_model.save(model_name)\n"
   ]
  },
  {
   "cell_type": "code",
   "execution_count": null,
   "id": "8446c8e0",
   "metadata": {},
   "outputs": [],
   "source": [
    "processed_data"
   ]
  },
  {
   "cell_type": "code",
   "execution_count": null,
   "id": "cd7d8198",
   "metadata": {},
   "outputs": [],
   "source": [
    "full_corpus = []\n",
    "flatten = [item for sublist in list_of_lists for item in sublist]\n",
    "full_corpus.extend(flatten)"
   ]
  },
  {
   "cell_type": "code",
   "execution_count": null,
   "id": "49e2caf7",
   "metadata": {},
   "outputs": [],
   "source": [
    "num_cores = mp.cpu_count()\n",
    "\n",
    "# Ran Apr 3 5:16 PM \n",
    "\n",
    "start_model = Word2Vec(full_corpus, vector_size = 300, min_count = 100, epochs = 10, sg = 1, hs = 0, negative = 5, window = 6, workers = num_cores-1)\n",
    "\n",
    "model_name = \"intermediate/housing.model\"\n",
    "\n",
    "start_model.save(model_name)"
   ]
  }
 ],
 "metadata": {
  "kernelspec": {
   "display_name": "conda_python3",
   "language": "python",
   "name": "conda_python3"
  },
  "language_info": {
   "codemirror_mode": {
    "name": "ipython",
    "version": 3
   },
   "file_extension": ".py",
   "mimetype": "text/x-python",
   "name": "python",
   "nbconvert_exporter": "python",
   "pygments_lexer": "ipython3",
   "version": "3.10.13"
  }
 },
 "nbformat": 4,
 "nbformat_minor": 5
}

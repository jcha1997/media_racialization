{
 "cells": [
  {
   "cell_type": "code",
   "execution_count": 1,
   "id": "642cb842",
   "metadata": {},
   "outputs": [],
   "source": [
    "import numpy\n",
    "import pickle\n",
    "import csv\n",
    "import os\n",
    "import math\n",
    "import random\n",
    "import pandas as pd\n",
    "import re\n",
    "from gensim.models import Word2Vec\n",
    "\n",
    "import multiprocessing as mp\n",
    "\n",
    "csv_file_path = \"intermediate/crime.csv\"\n",
    "\n",
    "df = pd.read_csv(csv_file_path, engine='python')\n",
    "df = df.dropna(subset=['Year'])\n",
    "df = df.loc[(df['Year']>=2004) & (df['Year']<=2022)]\n",
    "df = df.drop('Unnamed: 0', axis = 1)\n",
    "\n",
    "def mentioned(text):\n",
    "    return 1 if re.search(r'\\bracialization\\b', text, flags=re.IGNORECASE) else 0\n",
    "\n",
    "# Apply the function to the 'text' column to create a new column 'racialization_mentions'\n",
    "df['racialization_mentions'] = df['Text'].apply(lambda x: mentioned(str(x)))\n",
    "\n",
    "# Group by year and sum the counts of racialization mentions\n",
    "grouped_counts = df.groupby('Year')['racialization_mentions'].sum()\n",
    "\n",
    "grouped_counts.to_csv('crime_grouped_mentions.csv', header=True)"
   ]
  },
  {
   "cell_type": "code",
   "execution_count": 2,
   "id": "5d10b18f",
   "metadata": {},
   "outputs": [],
   "source": [
    "csv_file_path = \"intermediate/immigration.csv\"\n",
    "\n",
    "df = pd.read_csv(csv_file_path, engine='python')\n",
    "df = df.dropna(subset=['Year'])\n",
    "df = df.loc[(df['Year']>=2004) & (df['Year']<=2022)]\n",
    "df = df.drop('Unnamed: 0', axis = 1)\n",
    "\n",
    "def mentioned(text):\n",
    "    return 1 if re.search(r'\\bracialization\\b', text, flags=re.IGNORECASE) else 0\n",
    "\n",
    "# Apply the function to the 'text' column to create a new column 'racialization_mentions'\n",
    "df['racialization_mentions'] = df['Text'].apply(lambda x: mentioned(str(x)))\n",
    "\n",
    "# Group by year and sum the counts of racialization mentions\n",
    "grouped_counts = df.groupby('Year')['racialization_mentions'].sum()\n",
    "\n",
    "grouped_counts.to_csv('immigration_grouped_mentions.csv', header=True)"
   ]
  },
  {
   "cell_type": "code",
   "execution_count": 3,
   "id": "acade0e9",
   "metadata": {},
   "outputs": [],
   "source": [
    "csv_file_path = \"intermediate/healthcare.csv\"\n",
    "\n",
    "df = pd.read_csv(csv_file_path, engine='python')\n",
    "df = df.dropna(subset=['Year'])\n",
    "df = df.loc[(df['Year']>=2004) & (df['Year']<=2022)]\n",
    "df = df.drop('Unnamed: 0', axis = 1)\n",
    "\n",
    "def mentioned(text):\n",
    "    return 1 if re.search(r'\\bracialization\\b', text, flags=re.IGNORECASE) else 0\n",
    "\n",
    "# Apply the function to the 'text' column to create a new column 'racialization_mentions'\n",
    "df['racialization_mentions'] = df['Text'].apply(lambda x: mentioned(str(x)))\n",
    "\n",
    "# Group by year and sum the counts of racialization mentions\n",
    "grouped_counts = df.groupby('Year')['racialization_mentions'].sum()\n",
    "\n",
    "grouped_counts.to_csv('healthcare_grouped_mentions.csv', header=True)"
   ]
  }
 ],
 "metadata": {
  "kernelspec": {
   "display_name": "conda_python3",
   "language": "python",
   "name": "conda_python3"
  },
  "language_info": {
   "codemirror_mode": {
    "name": "ipython",
    "version": 3
   },
   "file_extension": ".py",
   "mimetype": "text/x-python",
   "name": "python",
   "nbconvert_exporter": "python",
   "pygments_lexer": "ipython3",
   "version": "3.10.13"
  }
 },
 "nbformat": 4,
 "nbformat_minor": 5
}
